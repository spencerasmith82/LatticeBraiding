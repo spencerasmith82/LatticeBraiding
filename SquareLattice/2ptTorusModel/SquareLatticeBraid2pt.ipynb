{
 "cells": [
  {
   "cell_type": "markdown",
   "metadata": {},
   "source": [
    "## Main Idea\n",
    "\n",
    "\n",
    "Here we impliment the following idea: Given a 2D square lattice, consider the (infinite) set of moves where every lattice point is involved in a pairwise (CCW or CW) exchange with one of its neighbors. We would like to see what combination of such moves, once repeated indefinately, results in the largest exponential rate of increase in the length of generic material lines.  Since there are an infinite number of possible ways to spatially arrange the switches in each move (due to the infinite lattice, infinite geometric configurations, and that each switch could be CW or CCW), we will try to answer a more constrained problem.  We can enumerate the number of unique moves for periodic moves of a given periodic domain (we consider a lattice on a torus).  \n",
    "\n",
    "Here we consider the square lattice compatible with the torus that has two points (see below).  We use wrap-around conditions that make this a torus (here we are using the square with identified opposite sides as the fundamental domain of the tours).  \n",
    "\n",
    "<img src=\"Pictures/FD1.jpg\">\n",
    "\n",
    "We will label the two points as (A,B) and the 4 edges as follows (shown on the fundamental domain).\n",
    "\n",
    "<img src=\"Pictures/FD2.jpg\">\n",
    "\n",
    "### Generators\n",
    "\n",
    "We will refer to individual pair switches by the edge connecting the pair of points (there are four), and a $\\pm$ exponent to denote a counter clockwise (CCW $+$) or clockwise (CW $-$) exchange.  So, the 8 generators are: $\\sigma^{\\pm}_{i}$ for $i \\in [1,4]$"
   ]
  },
  {
   "cell_type": "markdown",
   "metadata": {},
   "source": [
    "Here we can only execute one generator at a time, so the usual notion of an operator is equivalent to that of a genereator.\n",
    "\n",
    "We will try to find the Braid word up to length 8 on these 8 operators which maximizes the topological entropy per operator.  We will sucessively check the low length braid words first.  We will try larger length braids on a smaller subset of possibilities. "
   ]
  },
  {
   "cell_type": "markdown",
   "metadata": {},
   "source": [
    "<img src=\"Pictures/SquareDomain.jpg\">"
   ]
  },
  {
   "cell_type": "markdown",
   "metadata": {},
   "source": [
    "## Symmetries\n",
    "\n",
    "Using the above image, we can write down the coordinate transformations corresponding to symmetries.  Here we consider the symmetries to act on the underlying lattice, and not the torus (as given by the square fundamental domain).  The symmetries are: $D_1$ for a shift along the \"/\" diagonal, $D_2$ for a shift along the \\ diagonal.  We don't need to denote inverses or specify which direction the shift is in, because these operators are their own inverses (e.g. $\\overline{D}_1 = D_1$, or $D_1^2 = \\mathbb{1}$).  Also, the diagonal shifts are equivalent $D_1 = D_2$.  We will just use $D$.\n",
    "\n",
    "Other operators include $R$ for a CCW rotation by $\\pi/2$ about the center point (A), $\\overline{R}$ for a CW rotation by $\\pi/2$, and a mirror inversion about the \"/\" diagonal line through the central point A $M$.  For $i \\in [1,2,3,4,5,6]$, we give the action of the symmetry by the permutation $\\pi(i)$.  The permutation is defined for the six triangulation edges, but the restriction to the first four gives the permutation on the braid operator edges.\n",
    "\n",
    "$D: \\pi = (2,1,4,3)$  this would require flips to extend to the extra two triangulation edges (it is not used anyway)\n",
    "\n",
    "$R: \\pi = (3,4,2,1,6,5)$  This has $R^4 = \\mathbb{1}$\n",
    "\n",
    "$\\overline{R}: \\pi = (4,3,1,2,6,5)$\n",
    "\n",
    "$M: \\pi = (1,2,4,3,6,5)$  Note that this will switch CCW and CW braid generators.  Also $M^2 = \\mathbb{1}$"
   ]
  },
  {
   "cell_type": "markdown",
   "metadata": {},
   "source": [
    "<img src=\"Pictures/TriangulationCoordinates.jpg\">"
   ]
  },
  {
   "cell_type": "markdown",
   "metadata": {},
   "source": [
    "## Triangulation Coordinates\n",
    "\n",
    "We encode the way curves wind around the lattice points by specifying a triangulation.  In this case we need two more edges to create a triangulation (see above). Each edge weight counts the number of transverse intersections of the curves.  \n",
    "\n",
    "For our initial curve, we will take the band $E = (2,2,1,1,4,1)$.  If the braid is pA, then this should stretch out exponentially.  The asymptotic weighted traintrack that results will not depend on this initial condition for a pA braid.\n",
    "\n",
    "For the action of the symmetry operators on the triangulation coordinates, we will only consider $M$ and $R,\\overline{R}$.  We will not need $D$ for mapping the 8 operators onto just one example."
   ]
  },
  {
   "cell_type": "markdown",
   "metadata": {},
   "source": [
    "## Symmetry Operators and Braid Generators\n",
    "\n",
    "We will fully define the action of one generator on the coordinates ($S = \\sigma^{+}_2$).  All other generators will be related to this one by conjugating with a set of symmetries.  The operators act via left action (right most operator acts first).\n",
    "\n",
    "\n",
    "$\\sigma^{+}_1 = \\overline{R}\\overline{R}SRR$   \n",
    "\n",
    "$\\sigma^{-}_1 = \\overline{R}\\overline{R}MSMRR$   \n",
    "\n",
    "$\\sigma^{+}_2 = S$\n",
    "\n",
    "$\\sigma^{-}_2 = MSM$\n",
    "\n",
    "$\\sigma^{+}_3 = RS\\overline{R}$\n",
    "\n",
    "$\\sigma^{-}_3 = RMSM\\overline{R}$\n",
    "\n",
    "$\\sigma^{+}_4 = \\overline{R}SR$\n",
    "\n",
    "$\\sigma^{-}_4 = \\overline{R}MSMR$"
   ]
  },
  {
   "cell_type": "markdown",
   "metadata": {},
   "source": [
    "<img src=\"Pictures/TriangulationCoordinates.jpg\">"
   ]
  },
  {
   "cell_type": "markdown",
   "metadata": {},
   "source": [
    "## Coordinate Update Rules\n",
    "\n",
    "First for the update rule for $S$, which are constructed by breaking down the point interchange into a series of Whitehead moves and using our edge updating formula at each step.  Here is the formula for a Whitehead move (where E is the edge between the two triangles, A,B,C,D are the edges of the quadrilateral in cyclic order, and E' is the new edge after the flip):\n",
    "\n",
    "$E' = \\max(A+C,B+D) - E \\equiv \\Delta(A,B,C,D;E)$\n",
    "\n",
    "Now we use this to construct the overall update rule for $S$.  Consider the following figure. \n",
    "\n",
    "<img src=\"Pictures/FlipFig1.jpg\">\n"
   ]
  },
  {
   "cell_type": "markdown",
   "metadata": {},
   "source": [
    "#### Rules for $S$\n",
    "\n",
    "$(E^n = S E)$  :  $E^n_i = E^{*}_{\\pi(i)}$, where $E^{*} = (E'_1,E_2,E'_3,E'_4,E'''_5,E'''_6)$ and $\\pi = (1,2,3,4,5,6)$ (i.e. no permutation needed)\n",
    "\n",
    "$E'_6 = \\Delta(E_1,E_3,E_2,E_4;E_6)$\n",
    "\n",
    "$E'_3 = \\Delta(E_2,E_5,E_2,E'_6;E_3)$\n",
    "\n",
    "$E'_5 = \\Delta(E_4,E_1,E_2,E'_3;E_5)$\n",
    "\n",
    "$E''_6 = \\Delta(E_4,E_1,E_2,E'_3;E'_6)$\n",
    "\n",
    "$E'_1 = \\Delta(E_2,E'_5,E_2,E''_6;E_1)$\n",
    "\n",
    "$E''_5 = \\Delta(E_2,E'_1,E'_3,E_4;E'_5)$\n",
    "\n",
    "$E'''_6 = \\Delta(E_2,E'_1,E'_3,E_4;E''_6)$\n",
    "\n",
    "$E'_4 = \\Delta(E_2,E''_5,E_2,E'''_6;E_4)$\n",
    "\n",
    "$E'''_5 = \\Delta(E_2,E'_4,E'_1,E'_3;E''_5)$\n"
   ]
  },
  {
   "cell_type": "markdown",
   "metadata": {},
   "source": [
    "## Function Definitions"
   ]
  },
  {
   "cell_type": "code",
   "execution_count": 1,
   "metadata": {},
   "outputs": [],
   "source": [
    "#Now we set up the functions, S, M, R, R-inv.  Each of them take in a numpy array of length 6 and output the same data type.\n",
    "import numpy as np\n",
    "import copy\n",
    "\n",
    "#this is the fundamental function that updates the central edge in the Whitehead move\n",
    "def Delta(A,B,C,D,E):\n",
    "    return max(A+C,B+D) - E\n",
    "\n",
    "#this updates the state of the triangulation vector for the CCW switch connectinging A and B along edge 2 (and outputs the new one).  Notice that the indexing is one less than in the notes (starts with 0)\n",
    "def S_switch(WS):\n",
    "\n",
    "    E5p = Delta(WS[0],WS[2],WS[1],WS[3],WS[5])\n",
    "\n",
    "    E2p = Delta(WS[1],WS[4],WS[1],E5p,WS[2])\n",
    "    \n",
    "    E4p = Delta(WS[3],WS[0],WS[1],E2p,WS[4])\n",
    "\n",
    "    E5pp = Delta(WS[3],WS[0],WS[1],E2p,E5p)\n",
    "\n",
    "    E0p = Delta(WS[1],E4p,WS[1],E5pp,WS[0])\n",
    "\n",
    "    E4pp = Delta(WS[1],E0p,E2p,WS[3],E4p)\n",
    "\n",
    "    E5ppp = Delta(WS[1],E0p,E2p,WS[3],E5pp)\n",
    "    \n",
    "    E3p = Delta(WS[1],E4pp,WS[1],E5ppp,WS[3])\n",
    "\n",
    "    E4ppp = Delta(WS[1],E3p,E0p,E2p,E4pp)\n",
    "    \n",
    "\n",
    "    return np.array([E0p,WS[1],E2p,E3p,E4ppp,E5ppp])\n",
    "\n",
    "\n",
    "\n",
    "#now for the Mirror flip about the \"/\" diagonal\n",
    "def M_flip(WS):\n",
    "    return np.array([WS[0],WS[1],WS[3],WS[2],WS[5],WS[4]])\n",
    "\n",
    "#CCW rotation\n",
    "def R_rot(WS):\n",
    "    return np.array([WS[2],WS[3],WS[1],WS[0],WS[5],WS[4]])\n",
    "\n",
    "#CW rotation\n",
    "def RInv_rot(WS):\n",
    "    return np.array([WS[3],WS[2],WS[0],WS[1],WS[5],WS[4]])\n",
    "\n",
    "\n",
    "                     \n",
    "#now for the individual generators\n",
    "def Sig1(WS,Positive = True):\n",
    "    if Positive:\n",
    "        return R_rot(R_rot(S_switch(R_rot(R_rot(WS)))))\n",
    "    else:\n",
    "        return R_rot(R_rot(M_flip(S_switch(M_flip(R_rot(R_rot(WS)))))))\n",
    "                        \n",
    "def Sig2(WS,Positive = True):\n",
    "    if Positive:\n",
    "        return S_switch(WS)\n",
    "    else:\n",
    "        return M_flip(S_switch(M_flip(WS)))    \n",
    "                                          \n",
    "def Sig3(WS,Positive = True):\n",
    "    if Positive:\n",
    "        return R_rot(S_switch(RInv_rot(WS)))\n",
    "    else:\n",
    "        return R_rot(M_flip(S_switch(M_flip(RInv_rot(WS)))))\n",
    "                     \n",
    "def Sig4(WS,Positive = True):\n",
    "    if Positive:\n",
    "        return RInv_rot(S_switch(R_rot(WS)))\n",
    "    else:\n",
    "        return RInv_rot(M_flip(S_switch(M_flip(R_rot(WS)))))\n",
    "\n",
    "\n",
    "    \n",
    "                     \n",
    "def Generator(WS,n,Positive = True):\n",
    "    switcher = {\n",
    "        1: lambda WSin,Pos:Sig1(WSin,Pos),\n",
    "        2: lambda WSin,Pos:Sig2(WSin,Pos),\n",
    "        3: lambda WSin,Pos:Sig3(WSin,Pos),\n",
    "        4: lambda WSin,Pos:Sig4(WSin,Pos)\n",
    "    }\n",
    "    return switcher.get(n)(WS,Positive)\n"
   ]
  },
  {
   "cell_type": "markdown",
   "metadata": {},
   "source": [
    "Now we have all the functions defined that we need, and we can move on to lattice braid words acting on the triangluation coordinates"
   ]
  },
  {
   "cell_type": "code",
   "execution_count": 2,
   "metadata": {},
   "outputs": [],
   "source": [
    "#First, we will wrap out definition of a lattice braid generator as a list [i,j], where j are True or False (CCW or CW), and i are the move subscripts (1-4)\n",
    "def Lattice_Braid_Operator(WS, GenInfo):\n",
    "    WSout = Generator(WS,GenInfo[0],GenInfo[1])\n",
    "    return WSout\n",
    "    \n",
    "\n",
    "#now a braid word is a list of the Generator info elements.  This function takes in such a list and outputs the triangulation coordinates after applying each of the generators (in index order: 0, 1, 2, ...)\n",
    "def Lattice_Braid_Action(WS,LatticeBraid):\n",
    "    WSout = copy.copy(WS)\n",
    "    for i in range(len(LatticeBraid)):\n",
    "        WSout = Lattice_Braid_Operator(WSout,LatticeBraid[i])\n",
    "    return WSout\n",
    "\n",
    "#We also need a function that gets the total weight of the triangulation coordinates (just sum of all weights)\n",
    "def Weight_Total(WS):\n",
    "    wtot = 0\n",
    "    for i in range(len(WS)):\n",
    "        wtot += WS[i]\n",
    "    return wtot\n",
    "\n",
    "#now let's generate a list of the 8 generators\n",
    "G = [[1,True],[1,False],[2,True],[2,False],[3,True],[3,False],[4,True],[4,False]]"
   ]
  },
  {
   "cell_type": "markdown",
   "metadata": {},
   "source": [
    "<img src=\"Pictures/TriangulationCoordinates.jpg\">"
   ]
  },
  {
   "cell_type": "code",
   "execution_count": 3,
   "metadata": {
    "scrolled": true
   },
   "outputs": [
    {
     "name": "stdout",
     "output_type": "stream",
     "text": [
      "0 [0 2 2 2 2 2] [0 2 2 2 2 2] [0 2 2 2 2 2]\n",
      "1 [2 0 2 2 2 2] [2 0 2 2 2 2] [2 0 2 2 2 2]\n",
      "2 [2 2 0 2 2 2] [2 2 0 2 2 2] [2 2 0 2 2 2]\n",
      "3 [2 2 2 0 2 2] [2 2 2 0 2 2] [2 2 2 0 2 2]\n",
      "\n",
      "\n",
      "0 [0 2 2 2 2 2] [4 2 2 6 4 4] [0 2 2 2 2 2]\n",
      "1 [2 0 2 2 2 2] [2 4 2 2 2 4] [2 0 2 2 2 2]\n",
      "2 [2 2 0 2 2 2] [6 2 4 2 4 4] [2 2 0 2 2 2]\n",
      "3 [2 2 2 0 2 2] [2 6 6 4 6 4] [2 2 2 0 2 2]\n"
     ]
    }
   ],
   "source": [
    "#Let's try this out.  These are bands about each pair connected by an edge\n",
    "WSvals = [np.array([0,2,2,2,2,2]),np.array([2,0,2,2,2,2]),np.array([2,2,0,2,2,2]),np.array([2,2,2,0,2,2]),np.array([2,2,2,2,0,2]),np.array([2,2,2,2,2,0])]\n",
    "\n",
    "GenPos = [[i+1,True] for i in range(4)]\n",
    "GenNeg = [[i+1,False] for i in range(4)]\n",
    "\n",
    "#let's cycle through all the generators and have them act on the bands that should be invariant as a check\n",
    "\n",
    "for i in range(4):\n",
    "    print(i, WSvals[i],Lattice_Braid_Operator(WSvals[i],GenPos[i]),Lattice_Braid_Operator(WSvals[i],GenNeg[i]))\n",
    "\n",
    "print(\"\\n\")\n",
    "\n",
    "for i in range(4):\n",
    "    print(i, WSvals[i],Lattice_Braid_Operator(WSvals[i],GenPos[(i+1)%4]),Lattice_Braid_Operator(Lattice_Braid_Operator(WSvals[i],GenPos[(i+1)%4]),GenNeg[(i+1)%4]))\n",
    "#now let's check them against bands that should actually change, and impliment the inverse"
   ]
  },
  {
   "cell_type": "markdown",
   "metadata": {},
   "source": [
    "All of these checks work, and the functions appear to be doing what they are designed to do.  Now we would like to find the exponential stretching rate for general braids.\n",
    "\n",
    "## Getting the Topological Entropy"
   ]
  },
  {
   "cell_type": "code",
   "execution_count": 7,
   "metadata": {},
   "outputs": [],
   "source": [
    "get_ipython().magic('matplotlib inline')\n",
    "import matplotlib.pyplot as plt\n",
    "import math\n",
    "from scipy.optimize import curve_fit\n",
    "#Let's automate this.  Creating a function that will output the braiding entropy and fit\n",
    "def linear_func(x, a, b):\n",
    "    return a*x+b\n",
    "\n",
    "def GetTE(Bin):\n",
    "    WS = np.array([2.0,2.0,1.0,1.0,4.0,1.0])\n",
    "    Length = []\n",
    "    Iterations = []\n",
    "    Length.append(Weight_Total(WS))\n",
    "    Iterations.append(0)\n",
    "    numiter = 100\n",
    "    for i in range(numiter):\n",
    "        WS = Lattice_Braid_Action(WS,Bin)\n",
    "        Length.append(Weight_Total(WS))\n",
    "        Iterations.append(Iterations[-1]+len(Bin))\n",
    "\n",
    "    LWeights = [np.log(Length[i]) for i in range(0,len(Length))]\n",
    "    indend = len(Length)-1\n",
    "    fracstart = 2\n",
    "    indst = int(indend/fracstart)\n",
    "    popt, pcov = curve_fit(linear_func, Iterations[indst:indend], LWeights[indst:indend])  #fitting to a linear function ax+b\n",
    "    #popt has the optimal fits for a and b (in that order), and pcov has the covariance\n",
    "    perr = np.sqrt(np.diag(pcov))  #the one standard deviation errors\n",
    "    return [popt[0], perr[0]]\n",
    "\n",
    "#This one is better\n",
    "def GetTE2(Bin, tolerance = 1e-10, numitermax = 100,Verbose = False):\n",
    "    WS = np.array([2.0,2.0,1.0,1.0,4.0,1.0])\n",
    "    NumGen = len(Bin)\n",
    "    numitermin = 6\n",
    "    for i in range(numitermin):\n",
    "        WS = Lattice_Braid_Action(WS,Bin)\n",
    "    LogWeight = np.log(Weight_Total(WS))    \n",
    "    LogWeightPrev = 0\n",
    "    \n",
    "    iternum = numitermin\n",
    "    TE = (LogWeight - LogWeightPrev)/NumGen\n",
    "    TEprev = 0\n",
    "    \n",
    "    while np.abs(TE - TEprev) > tolerance and iternum < numitermax:\n",
    "        iternum += 1\n",
    "        WS = Lattice_Braid_Action(WS,Bin)\n",
    "        LogWeightPrev = LogWeight\n",
    "        TEprev = TE\n",
    "        #print(Weight_Total(WS))\n",
    "        LogWeight = np.log(Weight_Total(WS))\n",
    "        TE = (LogWeight - LogWeightPrev)/NumGen\n",
    "\n",
    "    if Verbose:\n",
    "        if iternum == numitermax:\n",
    "            print(\"Braiding Entropy of \", TE, \" with tolerance of \", np.abs(TE - TEprev), \" after the maximum of \", iternum, \" iterations\")\n",
    "        else:\n",
    "            print(\"Braiding Entropy of \", TE, \" with tolerance of \", np.abs(TE - TEprev), \" after \", iternum, \" iterations\")\n",
    "    return [TE, np.abs(TE - TEprev)]"
   ]
  },
  {
   "cell_type": "code",
   "execution_count": 8,
   "metadata": {},
   "outputs": [
    {
     "name": "stdout",
     "output_type": "stream",
     "text": [
      "[0.8779719312832112, 3.7903193977003256e-17]\n",
      "Braiding Entropy of  0.87797193710727  with tolerance of  6.205144842397203e-08  after the maximum of  8  iterations\n",
      "[0.87797193710727, 6.205144842397203e-08]\n"
     ]
    }
   ],
   "source": [
    "print(GetTE([[1, True], [3, False], [2, True]]))\n",
    "print(GetTE2([G[0],G[4],G[7]],numitermax = 8,Verbose = True))"
   ]
  },
  {
   "cell_type": "markdown",
   "metadata": {},
   "source": [
    "## Checking braid words by brute force\n",
    "Here we will run through the combinatorial possibilities of braid words up to those of a length that will take longer than 5 hours to run"
   ]
  },
  {
   "cell_type": "code",
   "execution_count": 36,
   "metadata": {},
   "outputs": [],
   "source": [
    "#here we make a recursive function that will do the same thing as nested loops, but out to an arbitrary depth.\n",
    "import time\n",
    "\n",
    "def GetTEPObraids(depth_end = 8,timelength = 20, timestart = None, BraidIn  = [[1,True]], AccumBraids = [[0,None]]):\n",
    "    if timestart is None:\n",
    "        timestart = time.time()\n",
    "    if not AccumBraids[-1] is None:\n",
    "        if len(BraidIn) < depth_end:\n",
    "            if len(BraidIn) == 2:\n",
    "                if time.time() > timestart+timelength and not AccumBraids[-1] is None:\n",
    "                    print(\"Timing out after \", time.time()-timestart, \" seconds\")\n",
    "                    AccumBraids.append(None)\n",
    "                    \n",
    "            if not AccumBraids[-1] is None:\n",
    "                #add endings to the current braid and pass through this function\n",
    "                for i in range(len(G)):\n",
    "                    BraidOut = BraidIn + [G[i]]\n",
    "                    AccumBraids = GetTEPObraids(depth_end,timelength,timestart,BraidOut,AccumBraids)\n",
    "                    if AccumBraids[-1] is None:\n",
    "                        break\n",
    "        else:\n",
    "            #halting condition\n",
    "            #find the topological entropy for this braid\n",
    "            #return the accumulated braid list with the new braid if it has \n",
    "            latestMaxTE = AccumBraids[-1][0]\n",
    "            TEtemp = GetTE2(BraidIn,numitermax = 10)[0]\n",
    "\n",
    "            if TEtemp >= (latestMaxTE-0.0001):\n",
    "                if TEtemp <= (latestMaxTE+0.0001):\n",
    "                    AccumBraids.append([TEtemp,BraidIn])\n",
    "                else:\n",
    "                    AccumBraids = [[TEtemp,BraidIn]]\n",
    "    return AccumBraids\n",
    "    "
   ]
  },
  {
   "cell_type": "code",
   "execution_count": 46,
   "metadata": {},
   "outputs": [],
   "source": [
    "def CounterToStr(countin):\n",
    "    if countin < 10:\n",
    "        return \"000\" + str(countin)\n",
    "    elif countin < 100:\n",
    "        return \"00\" + str(countin)\n",
    "    elif countin < 1000:\n",
    "        return \"0\" + str(countin)\n",
    "    elif countin < 10000:\n",
    "        return str(countin)\n",
    "    else:\n",
    "        return \"countertoobig\""
   ]
  },
  {
   "cell_type": "code",
   "execution_count": 54,
   "metadata": {},
   "outputs": [
    {
     "name": "stdout",
     "output_type": "stream",
     "text": [
      "Timing out after  154.81047701835632  seconds\n",
      "7\n"
     ]
    }
   ],
   "source": [
    "timelimit = 60*60*5  #five hours (in seconds)\n",
    "#timelimit = 60*2\n",
    "base = \"Sq2ptmaxTEPObraidsofLen\"\n",
    "ending = \".txt\"\n",
    "\n",
    "braidlen = 2\n",
    "timeout = False\n",
    "while not timeout:\n",
    "\n",
    "    filename = base + CounterToStr(braidlen) + ending\n",
    "    fileOut = open(filename,\"w\")\n",
    "    fileOut.write(\"Max TEPO Braids and TEPO value for braids of length \"+str(braidlen)+\": \\n\")\n",
    "    AB = GetTEPObraids(braidlen,timelimit)\n",
    "    for i in range(len(AB)):\n",
    "        if AB[i] is None:\n",
    "            fileOut.write(\"This run timed out after \" + str(timelimit) + \" seconds. The above braids are the max found by this break-time.\"+\"\\n\")\n",
    "        else:\n",
    "            fileOut.write(str(AB[i][0])+\" \"+str(AB[i][1])+\"\\n\")\n",
    "    fileOut.close()\n",
    "    if AB[-1] is None:\n",
    "        timeout = True\n",
    "    else:\n",
    "        braidlen += 1\n",
    "print(braidlen)"
   ]
  },
  {
   "cell_type": "code",
   "execution_count": 51,
   "metadata": {
    "scrolled": true
   },
   "outputs": [],
   "source": [
    "#let's try to do a faster version by using only generators that are on a different edge from the previous generator\n",
    "#G = [[1,True],[1,False],[2,True],[2,False],[3,True],[3,False],[4,True],[4,False]]\n",
    "G1 = [[1,True],[1,False]]\n",
    "G2 = [[2,True],[2,False]]\n",
    "G3 = [[3,True],[3,False]]\n",
    "G4 = [[4,True],[4,False]]\n",
    "GN1 = G2+G3+G4\n",
    "GN2 = G1+G3+G4\n",
    "GN3 = G1+G2+G4\n",
    "GN4 = G1+G2+G3\n",
    "GN = [GN1,GN2,GN3,GN4]\n",
    "\n",
    "\n",
    "\n",
    "def GetTEPObraids2(depth_end = 8,timelength = 20, timestart = None, BraidIn  = [[1,True]], AccumBraids = [[0,None]]):\n",
    "    if timestart is None:\n",
    "        timestart = time.time()\n",
    "    if not AccumBraids[-1] is None:\n",
    "        if len(BraidIn) < depth_end:\n",
    "            if len(BraidIn) == 2:\n",
    "                if time.time() > timestart+timelength and not AccumBraids[-1] is None:\n",
    "                    print(\"Timing out after \", time.time()-timestart, \" seconds\")\n",
    "                    AccumBraids.append(None)\n",
    "                    \n",
    "            if not AccumBraids[-1] is None:\n",
    "                #add endings to the current braid and pass through this function\n",
    "                indlast = BraidIn[-1][0]-1\n",
    "                for i in range(len(GN[indlast])):\n",
    "                    BraidOut = BraidIn + [GN[indlast][i]]\n",
    "                    AccumBraids = GetTEPObraids2(depth_end,timelength,timestart,BraidOut,AccumBraids)\n",
    "                    if AccumBraids[-1] is None:\n",
    "                        break\n",
    "        else:\n",
    "            #halting condition\n",
    "            #find the topological entropy for this braid\n",
    "            #return the accumulated braid list with the new braid if it has \n",
    "            latestMaxTE = AccumBraids[-1][0]\n",
    "            TEtemp = GetTE2(BraidIn,numitermax = 10)[0]\n",
    "\n",
    "            if TEtemp >= (latestMaxTE-0.0001):\n",
    "                if TEtemp <= (latestMaxTE+0.0001):\n",
    "                    AccumBraids.append([TEtemp,BraidIn])\n",
    "                else:\n",
    "                    AccumBraids = [[TEtemp,BraidIn]]\n",
    "    return AccumBraids\n",
    "\n"
   ]
  },
  {
   "cell_type": "code",
   "execution_count": null,
   "metadata": {},
   "outputs": [],
   "source": [
    "timelimit = 60*60*6  #6 hours (in seconds)\n",
    "#timelimit = 60*2\n",
    "base = \"Sq2ptmaxTEPObraidsofLen\"\n",
    "ending = \"targeted.txt\"\n",
    "\n",
    "\n",
    "timeout = False\n",
    "\n",
    "while not timeout:\n",
    "\n",
    "    filename = base + CounterToStr(braidlen) + ending\n",
    "    fileOut = open(filename,\"w\")\n",
    "    fileOut.write(\"Max TEPO Braids and TEPO value for braids of length \"+str(braidlen)+\": \\n\")\n",
    "    fileOut.write(\"Targeted Search \\n\")\n",
    "    AB = GetTEPObraids2(braidlen,timelimit)\n",
    "    for i in range(len(AB)):\n",
    "        if AB[i] is None:\n",
    "            fileOut.write(\"This run timed out after \" + str(timelimit) + \" seconds. The above braids are the max found by this break-time.\"+\"\\n\")\n",
    "        else:\n",
    "            fileOut.write(str(AB[i][0])+\" \"+str(AB[i][1])+\"\\n\")\n",
    "    fileOut.close()\n",
    "    if AB[-1] is None:\n",
    "        timeout = True\n",
    "    else:\n",
    "        braidlen += 1\n",
    "print(braidlen)"
   ]
  },
  {
   "cell_type": "code",
   "execution_count": 53,
   "metadata": {},
   "outputs": [
    {
     "name": "stdout",
     "output_type": "stream",
     "text": [
      "First method takes  31.486242055892944\n",
      "[[1.0363901785890934, [[1, True], [2, False], [3, False], [1, False], [2, True], [4, True]]], [1.0363901785890934, [[1, True], [3, True], [2, True], [1, False], [4, False], [2, False]]], [1.0363901785890934, [[1, True], [3, True], [4, False], [2, False], [3, False], [4, True]]]]\n",
      "Second method takes  7.131813049316406\n",
      "[[1.0363901785890934, [[1, True], [2, False], [3, False], [1, False], [2, True], [4, True]]], [1.0363901785890934, [[1, True], [3, True], [2, True], [1, False], [4, False], [2, False]]], [1.0363901785890934, [[1, True], [3, True], [4, False], [2, False], [3, False], [4, True]]]]\n"
     ]
    }
   ],
   "source": [
    "tstart = time.time()\n",
    "AB1 = GetTEPObraids(6,40000)\n",
    "tstop = time.time()\n",
    "print(\"First method takes \", tstop-tstart)\n",
    "print(AB1)\n",
    "tstart = time.time()\n",
    "AB2 = GetTEPObraids2(6,40000)\n",
    "tstop = time.time()\n",
    "print(\"Second method takes \", tstop-tstart)\n",
    "print(AB2)"
   ]
  },
  {
   "cell_type": "code",
   "execution_count": null,
   "metadata": {},
   "outputs": [],
   "source": []
  }
 ],
 "metadata": {
  "kernelspec": {
   "display_name": "Python 3",
   "language": "python",
   "name": "python3"
  },
  "language_info": {
   "codemirror_mode": {
    "name": "ipython",
    "version": 3
   },
   "file_extension": ".py",
   "mimetype": "text/x-python",
   "name": "python",
   "nbconvert_exporter": "python",
   "pygments_lexer": "ipython3",
   "version": "3.8.5"
  }
 },
 "nbformat": 4,
 "nbformat_minor": 2
}
