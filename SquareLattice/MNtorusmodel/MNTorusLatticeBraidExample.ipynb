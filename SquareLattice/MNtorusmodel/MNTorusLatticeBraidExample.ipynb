{
 "cells": [
  {
   "cell_type": "markdown",
   "metadata": {},
   "source": [
    "This shows how to use the MNptTorusBraiding.py module to define braid generators, loops, and braid operators (and braid action on the loops) on the $MxN$ square torus lattice (for $M$ and $N \\geq 4$)."
   ]
  },
  {
   "cell_type": "code",
   "execution_count": 1,
   "metadata": {},
   "outputs": [],
   "source": [
    "import MNptTorusBraiding as MNB   #just make sure MNptTorusBraiding.py is in the same path as this file\n",
    "import numpy as np\n",
    "get_ipython().magic('matplotlib inline')\n",
    "import matplotlib.pyplot as plt\n",
    "from scipy.optimize import curve_fit\n",
    "import math"
   ]
  },
  {
   "cell_type": "code",
   "execution_count": 2,
   "metadata": {},
   "outputs": [
    {
     "name": "stdout",
     "output_type": "stream",
     "text": [
      "64\n"
     ]
    }
   ],
   "source": [
    "#First let's define a loop\n",
    "MN = [4,4]  #defining the lattice type [M,N]\n",
    "L1 = MNB.Loop(MN)   #this creates a loop with a default set of weights (vertical and horizontal edges have weight one, while all diagonal edges have weight 2).  This default corresponds (in the NxN case) to loops with winding ratio of 1 on the torus.  A loop can be initialized with any weight set (input as a list of weights of the appropriate size ... see the .py file for the ordering convention) \n",
    "print(L1.WeightTotal())  #This gives the weight of the loop (the sum of the abs of the shear weights)"
   ]
  },
  {
   "cell_type": "code",
   "execution_count": 3,
   "metadata": {},
   "outputs": [],
   "source": [
    "#now let's define a braid\n",
    "Lloc = [1,2]  #the i,j location of one of the two lattice points that will be interchanged.  The convention is that if the braid is oriented horizontally, then this point is the left most point of the pair, and if vertical, this point is the bottom most point of the pair\n",
    "B1 = MNB.BraidGenerator(Lloc,orientation = \"Horizontal\", sw = \"CCW\")  #The location of the pair of lattice points, the orientation (\"Horizontal\" or \"Vertical\"), and the switching direction (\"CCW\" or \"CW\") are all specified"
   ]
  },
  {
   "cell_type": "code",
   "execution_count": 4,
   "metadata": {},
   "outputs": [
    {
     "name": "stdout",
     "output_type": "stream",
     "text": [
      "68\n"
     ]
    }
   ],
   "source": [
    "#Now we can define the action of a braid on a loop.  The braid was defined independent of the lattice, so it's [i,j] location is interpereted with the M,N of the loop as i mod M and j mod N.  The loop itself is modified in place\n",
    "B1.Action(L1)\n",
    "print(L1.WeightTotal())  #the weight should now be different"
   ]
  },
  {
   "cell_type": "code",
   "execution_count": 5,
   "metadata": {},
   "outputs": [
    {
     "name": "stdout",
     "output_type": "stream",
     "text": [
      "64\n"
     ]
    }
   ],
   "source": [
    "#we can make the inverse of the previous braid to show that its action on the loop brings the loop back to its original state\n",
    "B1inv = MNB.BraidGenerator(Lloc,orientation = \"Horizontal\", sw = \"CW\") #just changed CCW to CW\n",
    "B1inv.Action(L1)\n",
    "print(L1.WeightTotal())"
   ]
  },
  {
   "cell_type": "markdown",
   "metadata": {},
   "source": [
    "At this point, we can represent any braid generator on the lattice.  The way we will think of braids in general will be to consider a braid operator to be a collection of braid generators that are compatible (can be exicuted simultaneously ... i.e. the braid generators as edges in the lattice are part of a matching).  We need not have a perfect matching (maximum number of compatible pairs).  A general braid will then be a collection of braid operators.  The input will be a list (each element is an operator) of lists (each operator is comprised of braid generators).\n",
    "\n",
    "This allows us to define a general braid and find the topological entropy per operator.  The operator that gets this info is detailed below."
   ]
  },
  {
   "cell_type": "code",
   "execution_count": 6,
   "metadata": {},
   "outputs": [
    {
     "name": "stdout",
     "output_type": "stream",
     "text": [
      "Braiding Entropy of  0.009345862418237871  with tolerance of  8.816981512005384e-05  after the maximum of  100  iterations\n",
      "[0.009345862418237871, 8.816981512005384e-05]\n"
     ]
    }
   ],
   "source": [
    "#the GetTE (really the TEPO) function takes a braid and the lattice dimensions as input (the verbose flag is just to trigger some print statements)\n",
    "print(MNB.GetTE([[B1]],[4,4],Verbose = True))  #This gives the TEPO of the single braid generator we already defined\n",
    "#Note that this method of finding the TEPO doesn't do well with very small or zero entropy braids.  B1 here should have a TEPO of zero.  Note that the verbose flag lets us know that the process terminated after the maximum of 100 iterations (this can be increased).  Indeed if we increased the max iterates (an optional input along with the tolerance) the TEPO would decrease."
   ]
  },
  {
   "cell_type": "code",
   "execution_count": 7,
   "metadata": {},
   "outputs": [],
   "source": [
    "#Now let's find the TEPO for a more interesting braid.  This is the [4,4] version of our proposed max TEPO braid from the [2,2] lattice.  It helps to draw it out to see how I constructed the four braid operators.\n",
    "\n",
    "Bopset1 = []\n",
    "for i in range(4):\n",
    "    Bopset1.append([])\n",
    "IJset1 = [[0,0],[0,2],[1,1],[1,3],[2,0],[2,2],[3,1],[3,3]]\n",
    "IJset2 = [[0,1],[0,3],[1,0],[1,2],[2,1],[2,3],[3,0],[3,2]]\n",
    "for i in range(len(IJset1)):\n",
    "    Bopset1[0].append(MNB.BraidGenerator(IJset1[i],orientation = \"Vertical\", sw = \"CCW\"))\n",
    "    Bopset1[1].append(MNB.BraidGenerator(IJset1[i],orientation = \"Horizontal\", sw = \"CCW\"))\n",
    "    Bopset1[2].append(MNB.BraidGenerator(IJset2[i],orientation = \"Vertical\", sw = \"CCW\"))\n",
    "    Bopset1[3].append(MNB.BraidGenerator(IJset2[i],orientation = \"Horizontal\", sw = \"CCW\"))"
   ]
  },
  {
   "cell_type": "code",
   "execution_count": 8,
   "metadata": {},
   "outputs": [
    {
     "name": "stdout",
     "output_type": "stream",
     "text": [
      "Braiding Entropy of  1.061275061905011  with tolerance of  1.6395773627664312e-12  after  8  iterations\n",
      "[1.061275061905011, 1.6395773627664312e-12]\n"
     ]
    }
   ],
   "source": [
    "#now we get the TEPO of this braid\n",
    "print(MNB.GetTE(Bopset1,[4,4],Verbose = True))\n",
    "#note that the convergence is quick for this pA braid"
   ]
  },
  {
   "cell_type": "markdown",
   "metadata": {},
   "source": [
    "This version of the $2x2$ point pattern, extended to the $4x4$ torus lattice, still gives the same TEPO (as expected).  A natural questions to ask, is whether we can find a higher TEPO braid in the $4x4$ regime than this one?  This is much harder to systematically study, since for the 4x4 torus lattice, a complete enumeration of every braid operator is going to be too unwieldly (there are 272 tilings (i.e. perfect matchings), and for each of these, each pairing could be CCW or CW, which gives  $2^8=256$  possibilities for each matching, or 69632 possible operators).  This is not to mention the combinatorics we get from adding in braid length."
   ]
  }
 ],
 "metadata": {
  "kernelspec": {
   "display_name": "Python 3",
   "language": "python",
   "name": "python3"
  },
  "language_info": {
   "codemirror_mode": {
    "name": "ipython",
    "version": 3
   },
   "file_extension": ".py",
   "mimetype": "text/x-python",
   "name": "python",
   "nbconvert_exporter": "python",
   "pygments_lexer": "ipython3",
   "version": "3.8.5"
  }
 },
 "nbformat": 4,
 "nbformat_minor": 2
}
